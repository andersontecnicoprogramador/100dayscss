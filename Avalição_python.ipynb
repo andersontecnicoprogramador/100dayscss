{
  "nbformat": 4,
  "nbformat_minor": 0,
  "metadata": {
    "colab": {
      "provenance": [],
      "authorship_tag": "ABX9TyMINjYz/SoQXK2i/wt5Xdkb",
      "include_colab_link": true
    },
    "kernelspec": {
      "name": "python3",
      "display_name": "Python 3"
    },
    "language_info": {
      "name": "python"
    }
  },
  "cells": [
    {
      "cell_type": "markdown",
      "metadata": {
        "id": "view-in-github",
        "colab_type": "text"
      },
      "source": [
        "<a href=\"https://colab.research.google.com/github/andersontecnicoprogramador/100dayscss/blob/main/Avali%C3%A7%C3%A3o_python.ipynb\" target=\"_parent\"><img src=\"https://colab.research.google.com/assets/colab-badge.svg\" alt=\"Open In Colab\"/></a>"
      ]
    },
    {
      "cell_type": "code",
      "source": [
        "#Comentários: Esse é tipo de comentarios em python,tambem temos outro tipo é \"\"\" esse faz comententarios de varias linha."
      ],
      "metadata": {
        "id": "BQG2fcYQ9Zmu"
      },
      "execution_count": null,
      "outputs": []
    },
    {
      "cell_type": "code",
      "source": [
        "#exemplo de comentario\n",
        "#print(\"Anderson\") Aqui para comentar uma linha de codigo\n",
        "\n",
        "\"\"\"\n",
        "Aqui para eu comentar bloco com varias linha codigo\n",
        "print(\"Anderson\")\n",
        "print(\"Anderson\")\n",
        "print(\"Anderson\")\n",
        "\"\"\""
      ],
      "metadata": {
        "id": "CwFWkt2d9emN"
      },
      "execution_count": null,
      "outputs": []
    },
    {
      "cell_type": "code",
      "execution_count": null,
      "metadata": {
        "id": "-rn8TDtR1aJT"
      },
      "outputs": [],
      "source": [
        "#Crie um passo a passo explicando lógica de programação utilizando a linguagem python. O desenvolvimento desse arquivo deverá conter\n",
        "#comentários e exemplos sobre oque você irá explicar.\n",
        "#Variáveis\n",
        "#As variáveis são usadas para armazenar dados. Em Python, você pode criar uma variável e atribuir um valor a ela usando o sinal de igual (=).\n"
      ]
    },
    {
      "cell_type": "code",
      "source": [
        "# Exemplo de Variaveis em python\n",
        "idade = 25\n",
        "nome = \"João\"\n",
        "print(idade)\n",
        "print(nome)"
      ],
      "metadata": {
        "id": "jcO7d0py6lEx"
      },
      "execution_count": null,
      "outputs": []
    },
    {
      "cell_type": "code",
      "source": [
        "\"\"\"\n",
        "Tipos de Dados\n",
        "Python possui diferentes tipos de dados, incluindo inteiros, flutuantes, strings, booleanos, listas, tuplas e dicionários.\n",
        "\"\"\""
      ],
      "metadata": {
        "id": "rrt53w0E_HhP"
      },
      "execution_count": null,
      "outputs": []
    },
    {
      "cell_type": "code",
      "source": [
        "\"\"\"\n",
        "Os tipos de dados padrão do Python são:\n",
        "\n",
        "Inteiro (int)\n",
        "Ponto Flutuante ou Decimal (float)\n",
        "Tipo Complexo (complex)\n",
        "String (str)\n",
        "Boolean (bool)\n",
        "List (list)\n",
        "Tuple\n",
        "Dictionary (dic)\n",
        "Tipo Inteiro (int)\n",
        "O tipo inteiro é um tipo composto por caracteres numéricos (algarismos) inteiros.\n",
        "\n",
        "É um tipo usado para um número que pode ser escrito sem um componente decimal, podendo ter ou não sinal, isto é: ser positivo ou negativo.\n",
        "\n",
        "Por exemplo, 21, 4, 0, e −2048 são números inteiros, enquanto 9.75, 1/2, 1.5 não são.\n",
        "\"\"\""
      ],
      "metadata": {
        "id": "nfKBfuqt_cqO"
      },
      "execution_count": null,
      "outputs": []
    },
    {
      "cell_type": "code",
      "source": [
        "#Exemplos tipo int\n",
        "idade = 18\n",
        "ano = 2002\n",
        "\n",
        "print(type(idade))\n",
        "print(type(ano))"
      ],
      "metadata": {
        "id": "DWb0CQaIIVMT"
      },
      "execution_count": null,
      "outputs": []
    },
    {
      "cell_type": "code",
      "source": [
        "\"\"\"\n",
        "Ponto Flutuante ou Decimal (float)\n",
        "É um tipo composto por caracteres numéricos (algarismo) decimais.\n",
        "\n",
        "O famoso ponto flutuante é um tipo usado para números racionais (números que podem ser representados por uma fração) informalmente conhecido como “número quebrado”.\n",
        "\n",
        "Exemplos:\n",
        "\"\"\"\n",
        "altura = 1.80\n",
        "peso = 73.55\n",
        "\n",
        "print(type(peso))\n",
        "print(type(altura))\n"
      ],
      "metadata": {
        "id": "DfsG4Wj7IpE6"
      },
      "execution_count": null,
      "outputs": []
    },
    {
      "cell_type": "code",
      "source": [
        "\"\"\"\n",
        "String (str)\n",
        "É um conjunto de caracteres dispostos numa determinada ordem, geralmente utilizada para representar palavras, frases ou textos.\n",
        "\n",
        "Exemplos:\n",
        "\"\"\"\n",
        "nome = 'Guilherme'\n",
        "profissao = 'Engenheiro de Software'\n",
        "\n",
        "print(type(profissao))\n",
        "print(type(nome))"
      ],
      "metadata": {
        "id": "57NSmsU4IwHy"
      },
      "execution_count": null,
      "outputs": []
    },
    {
      "cell_type": "code",
      "source": [
        "\"\"\"\n",
        "Boolean (bool)\n",
        "Tipo de dado lógico que pode assumir apenas dois valores: falso ou verdadeiro (False ou True em Python).\n",
        "\n",
        "Na lógica computacional, podem ser considerados como 0 ou 1.\n",
        "\n",
        "Exemplos:\n",
        "\"\"\"\n",
        "fim_de_semana = True\n",
        "feriado = False\n",
        "\n",
        "print(type(fim_de_semana))\n",
        "print(type(feriado))"
      ],
      "metadata": {
        "id": "i-jMAkKLJOx6"
      },
      "execution_count": null,
      "outputs": []
    },
    {
      "cell_type": "code",
      "source": [
        "\"\"\"\n",
        "Listas (list)\n",
        "Tipo de dado muito importante e que é muito utilizado no dia a dia do desenvolvedor Python!\n",
        "\n",
        "Listas agrupam um conjunto de elementos variados, podendo conter: inteiros, floats, strings, outras listas e outros tipos.\n",
        "\n",
        "Elas são definidas utilizando-se colchetes para delimitar a lista e vírgulas para separar os elementos, veja alguns exemplo abaixo:\n",
        "\"\"\"\n",
        "alunos = ['Amanda', 'Ana', 'Bruno', 'João']\n",
        "notas = [10, 8.5, 7.8, 8.0]\n",
        "\n",
        "print(type(alunos))\n",
        "print(type(notas))"
      ],
      "metadata": {
        "id": "93ek0gqsJTDK"
      },
      "execution_count": null,
      "outputs": []
    },
    {
      "cell_type": "code",
      "source": [
        "\"\"\"\n",
        "Tuplas (tuple)\n",
        "Assim como Lista, Tupla é um tipo que agrupa um conjunto de elementos.\n",
        "\n",
        "Porém sua forma de definição é diferente: utilizamos parênteses e também separado por vírgula.\n",
        "\n",
        "A diferença para Lista é que Tuplas são imutáveis, ou seja, após sua definição, Tuplas não podem ser modificadas.\n",
        "\n",
        "Vamos ver alguns exemplos:\n",
        "\"\"\"\n",
        "valores = (90, 79, 54, 32, 21)\n",
        "pontos = (100, 94.05, 86.8, 62)\n",
        "\n",
        "print(type(valores))\n",
        "print(type(pontos))\n",
        "\"\"\"\n",
        "Caso haja uma tentativa de alterar os itens de uma tupla após sua definição, como no código a seguir:\n",
        "tuple = (0, 1, 2, 3)\n",
        "tuple[0] = 4\n",
        "O seguinte erro do tipo TypeError será lançado pelo interpretador do Python:\n",
        "(saida do erro no terminal)Traceback (most recent call last):\n",
        "  File \"<stdin>\", line 1, in <module>\n",
        "TypeError: 'tuple' object does not support item assignment\n",
        "\"\"\"\n"
      ],
      "metadata": {
        "id": "A7oMT3h_Jwua"
      },
      "execution_count": null,
      "outputs": []
    },
    {
      "cell_type": "code",
      "source": [
        "\"\"\"\n",
        "Dicionários (dict)\n",
        "Dict é um tipo de dado muito flexível do Python.\n",
        "\n",
        "Eles são utilizados para agrupar elementos através da estrutura de chave e valor, onde a chave é o primeiro elemento seguido por dois pontos e pelo valor.\n",
        "\n",
        "Vamos ver alguns exemplos:\n",
        "\"\"\"\n",
        "altura = {'Amanda': 1.65, 'Ana': 1.60, 'João': 1.70}\n",
        "peso = {'Amanda': 60, 'Ana': 58, 'João': 68}\n",
        "\n",
        "print(type(altura))\n",
        "print(type(peso))"
      ],
      "metadata": {
        "colab": {
          "base_uri": "https://localhost:8080/"
        },
        "id": "ro915n7qK25D",
        "outputId": "166da0b3-abf1-493c-a3af-01880815e6b2"
      },
      "execution_count": null,
      "outputs": [
        {
          "output_type": "stream",
          "name": "stdout",
          "text": [
            "<class 'dict'>\n",
            "<class 'dict'>\n"
          ]
        }
      ]
    },
    {
      "cell_type": "code",
      "source": [
        "\"\"\"\n",
        "Números\n",
        "Em Python existem três tipos numéricos, são eles:\n",
        "\n",
        "int\n",
        "float\n",
        "complex\n",
        "É importante lembrarmos que tudo em Python é um objeto, sendo assim, tipos de dados são classes e variáveis são instâncias (objetos) dessas classes, não se preocupe que veremos esses aspectos com mais detalhe ao longo do guia.\n",
        "\n",
        "Variáveis do tipo numérico são criadas quando atribuimos valores a elas:\n",
        "\"\"\"\n",
        "a = 27    # int\n",
        "b = 22.2  # float\n",
        "c = 3j    # complex"
      ],
      "metadata": {
        "id": "96-i69qRJ6DK"
      },
      "execution_count": null,
      "outputs": []
    },
    {
      "cell_type": "code",
      "source": [
        "#Para verificarmos qual classe a variável pertence, podemos utilizar a função type():\n",
        "\n",
        "print(type(a)) # <class 'int'>\n",
        "print(type(b)) # <class 'float'>\n",
        "print(type(c)) # <class 'complex'>"
      ],
      "metadata": {
        "colab": {
          "base_uri": "https://localhost:8080/"
        },
        "id": "aC3v4gN8MgQ7",
        "outputId": "07f6b8af-0ad8-4754-9551-3a47b553bed1"
      },
      "execution_count": null,
      "outputs": [
        {
          "output_type": "stream",
          "name": "stdout",
          "text": [
            "<class 'int'>\n",
            "<class 'float'>\n",
            "<class 'complex'>\n"
          ]
        }
      ]
    },
    {
      "cell_type": "code",
      "source": [
        "#Int\n",
        "#Inteiros são números positivos, negativos, que não apresentam casas decimais, seu tamanho é limitado apenas pela capacidade de memória disponível:\n",
        "\n",
        "a = 3\n",
        "b = 342907249723902\n",
        "c = -100\n",
        "print(type(a)) # <class 'int'>\n",
        "print(type(b)) # <class 'int'>\n",
        "print(type(c)) # <class 'int'>"
      ],
      "metadata": {
        "colab": {
          "base_uri": "https://localhost:8080/"
        },
        "id": "RARw7NuUMnnC",
        "outputId": "4c08a120-8c26-4582-b1cc-145df8a81f6f"
      },
      "execution_count": null,
      "outputs": [
        {
          "output_type": "stream",
          "name": "stdout",
          "text": [
            "<class 'int'>\n",
            "<class 'int'>\n",
            "<class 'int'>\n"
          ]
        }
      ]
    },
    {
      "cell_type": "code",
      "source": [
        "#Float\n",
        "#Floats ou \"números de ponto flutuante\" são números positivos ou negativos que podem conter uma ou mais casas decimais:\n",
        "\n",
        "a = 23.3\n",
        "b = 2.0\n",
        "c = -17.78\n",
        "print(type(a)) # <class 'float'>\n",
        "print(type(b)) # <class 'float'>\n",
        "print(type(c)) # <class 'float'>"
      ],
      "metadata": {
        "colab": {
          "base_uri": "https://localhost:8080/"
        },
        "id": "Ht1B-I9TMxqb",
        "outputId": "279b6da3-248f-42bc-f2eb-8151a1e95dff"
      },
      "execution_count": null,
      "outputs": [
        {
          "output_type": "stream",
          "name": "stdout",
          "text": [
            "<class 'float'>\n",
            "<class 'float'>\n",
            "<class 'float'>\n"
          ]
        }
      ]
    },
    {
      "cell_type": "code",
      "source": [
        "#Complex\n",
        "#Números complexos são escritos com j representando a parte imaginária. Eles podem ser escritos complex(3,4) ou 3 + 4j. Um número complexo Python c é armazenado internamente usando coordenadas Cartesianas ou Retangulares.\n",
        "\n",
        "#Vejamos alguns exemplos:\n",
        "\n",
        "a = 2+4j\n",
        "b = -3j\n",
        "c = complex(3,4)\n",
        "print(type(a)) # <class 'complex'>\n",
        "print(type(b)) # <class 'complex'>\n",
        "print(type(c)) # <class 'complex'>\n",
        "\n",
        "#Obtendo as partes Real e Imaginária de um número complexo:\n",
        "\n",
        "print(c.real) # 3.0\n",
        "print(c.imag) # 4.0"
      ],
      "metadata": {
        "colab": {
          "base_uri": "https://localhost:8080/"
        },
        "id": "3b13KR4WNLYT",
        "outputId": "8fdeb637-68e6-4418-fe03-db9f4d03b640"
      },
      "execution_count": null,
      "outputs": [
        {
          "output_type": "stream",
          "name": "stdout",
          "text": [
            "<class 'complex'>\n",
            "<class 'complex'>\n",
            "<class 'complex'>\n",
            "3.0\n",
            "4.0\n"
          ]
        }
      ]
    },
    {
      "cell_type": "code",
      "source": [
        "\"\"\"\n",
        "Operadores\n",
        "Operadores são símbolos especiais capazes de executar computação aritmética ou lógica.\n",
        "\n",
        "Os operadores são usados para realizar operações em variáveis e valores.\n",
        "\n",
        "Existem diversos tipos de operadores em Python:\n",
        "\n",
        "Operadores Aritméticos\n",
        "Operadores de Atribuição\n",
        "Operadores de Comparação\n",
        "Operadores Lógicos\n",
        "Operadores de Identidade\n",
        "Vejamos então como eles funcionam em mais detalhes\n",
        "Operadores Aritméticos\n",
        "Operadores aritméticos são usados com valores numéricos para realizar operações matemáticas comuns:\n",
        "\n",
        "Operador\tDescrição\tExemplo\n",
        "+\tAdiciona dois operandos\t2+5\n",
        "-\tSubtrai o operando da direita pelo da esquerda\t7-2\n",
        "*\tMultiplica dois operandos\t3*3\n",
        "/\tDivide o operando da esquerda pelo da direita\t3/2\n",
        "%\tMódulo, resto da divisão do operando da esquerda pelo da direita\t10%3\n",
        "//\tDivisão arredondada, esta divisão retorna um número inteiro\t3//2\n",
        "**\tExpoente, operando a esquerda elevado à potência do operando a direita\t2**32\n",
        "Por exemplo:\n",
        "\"\"\"\n",
        "x = 10\n",
        "y = 6\n",
        "z = 6.0\n",
        "print(\"x + y = \", x+y)   # Nos resulta 16\n",
        "print(\"x - y = \", x-y)   # Nos resulta 4\n",
        "print(\"x * y = \", x*y)   # Nos resulta 60\n",
        "print(\"x / y = \", x/y)   # Nos resulta 1.6666666666666667\n",
        "print(\"x / z = \", x/z)   # Nos resulta 1.6666666666666667\n",
        "print(\"x // y = \", x//y) # Nos resulta 1\n",
        "print(\"x ** y = \", x**y) # Nos resulta 1000000\n",
        "#Observe que definimos a variável z com o valor 6.0, um número ponto flutuante, de forma que Python possa nos trazer um resultado ponto flutuante no momento de fazermos a divisão do valor de x por z.\n"
      ],
      "metadata": {
        "id": "jy_9gCRCNy0q"
      },
      "execution_count": null,
      "outputs": []
    },
    {
      "cell_type": "code",
      "source": [
        "\"\"\"\n",
        "Operadores de Atribuição\n",
        "Operadores de atribuição são usados para atribuir valores a variáveis:\n",
        "\n",
        "Operador\tExemplo 1\tExemplo 2\n",
        "=\tx = 3\tx = 3\n",
        "+=\tx += 3\tx = x + 3\n",
        "-=\tx -= 3\tx = x - 3\n",
        "*=\tx *= 3\tx = x * 3\n",
        "/=\tx /= 3\tx = x / 3\n",
        "%=\tx %= 3\tx = x % 3\n",
        "//=\tx //= 3\tx = x // 3\n",
        "**=\tx **= 3\tx = x ** 3\n",
        "&=\tx &= 3\tx = x & 3\n",
        "|=\tx |= 3\tx = x | 3\n",
        "^=\tx ^= 3\tx = x ^ 3\n",
        ">>=\tx >>= 3\tx = x >> 3\n",
        "<<=\tx <<= 3\tx = x << 3\n",
        "Vejamos um simples exemplo:\n",
        "\"\"\"\n",
        "a = 1\n",
        "a += 3\n",
        "print(a) # 4"
      ],
      "metadata": {
        "id": "8P4NI_5YO1A1"
      },
      "execution_count": null,
      "outputs": []
    },
    {
      "cell_type": "code",
      "source": [
        "\"\"\"\n",
        "Operadores de Comparação\n",
        "Operadores de comparação são usados para comparar valores. Retornarão True ou False de acordo com a condição.\n",
        "\n",
        "Operador\tDescrição\tExemplo\n",
        ">\tMaior que - True se o operando a esquerda for maior que o da direita\tx > y\n",
        "<\tMenor que - True se o operando a esquerda for menor que o da direita\tx < y\n",
        "==\tIgual - True se ambos os operandos forem iguais\tx == y\n",
        "!=\tNão Igual - True se os operandos forem diferentes\tx != y\n",
        ">=\tMaior que ou Igual - True se o operando da esquerda for maior ou igual ao da direita\tx >= y\n",
        "<=\tMenor que ou Igual - True se o operando da esquerda for menor ou igual ao da direita\tx <= y\n",
        "Vejamos alguns exemplos de comparações:\n",
        "\"\"\"\n",
        "x = 12\n",
        "y = 3\n",
        "print(x>y)   # True\n",
        "print(x<y)   # False\n",
        "print(x==y)  # False\n",
        "print(x!=y)  # True\n",
        "print(x>=y)  # True\n",
        "print(x<=y)  # False"
      ],
      "metadata": {
        "id": "_KlYXglNPFjd"
      },
      "execution_count": null,
      "outputs": []
    },
    {
      "cell_type": "code",
      "source": [
        "\"\"\"\n",
        "Operadores Lógicos\n",
        "Operadores Lógicos são usados para combinar comandos condicionais.\n",
        "\n",
        "Operador\tDescrição\tExemplo\n",
        "and\tRetorna True se ambos os comandos são verdadeiros\tx < y and x < 10\n",
        "or\tRetorna True se um dos comandos é verdadeiro\tx < y or x > 3\n",
        "not\tReverte o resultado, retorna False se o resultado for True e vice-versa\tnot(x > 10)\n",
        "Vamos considerar então alguns exemplos com operadores lógicos:\n",
        "\"\"\"\n",
        "n1, n2, n3 = 3, 6, 7\n",
        "print(n1 < n2 and n1 < n3) # True\n",
        "print(n1 == n2 or n3 == n2) # False\n",
        "print(not True) # False"
      ],
      "metadata": {
        "id": "taeGjmFOPU_F"
      },
      "execution_count": null,
      "outputs": []
    },
    {
      "cell_type": "code",
      "source": [
        "\"\"\"\n",
        "Operadores de Identidade\n",
        "Operadores de identidade são usados para comparar os objetos, não se são iguais, mas se eles forem realmente o mesmo objeto, com o mesmo local de memória.\n",
        "\n",
        "is e is not são operadores de identidade em Python, eles são usados para checar se dois valores (ou variáveis) estão localizados na mesma área de memória, duas variáveis iguais não significam que são idênticas!\n",
        "\n",
        "Operador\tDescrição\n",
        "is\tTrue se os operandos são idênticos (referem ao mesmo objeto)\n",
        "is not\tTrue se os operandos não são idênticos (não referem ao mesmo objeto)\n",
        "Exemplo com números:\n",
        "\"\"\"\n",
        "x = 1\n",
        "y = 1\n",
        "print(x is y)     # True\n",
        "print(x is not y) # False\n",
        "\n"
      ],
      "metadata": {
        "id": "ytL8QOKEPh21"
      },
      "execution_count": null,
      "outputs": []
    },
    {
      "cell_type": "code",
      "source": [
        "#Exemplo com strings:\n",
        "\n",
        "a = \"cachorro\"\n",
        "b = \"cachorro\"\n",
        "print(a is b)      # True\n",
        "print(a is not b)  # False"
      ],
      "metadata": {
        "id": "LsUPdiI_P5FV"
      },
      "execution_count": null,
      "outputs": []
    },
    {
      "cell_type": "code",
      "source": [
        "#Exemplo com listas:\n",
        "\n",
        "z = [1,2,3]\n",
        "k = [1,2,3]\n",
        "print(z is k)      # False\n",
        "print(z is not k)  # True\n",
        "#Perceba aqui que x e y são inteiros do mesmo valor, então eles são iguais e idênticos, o mesmo vale para a e b (strings). Porém o mesmo não ocorre com z e k, que são iguais, porem não idênticos, isso porque o interpretador localiza eles separadamente em memória, mesmo eles sendo iguais."
      ],
      "metadata": {
        "id": "oJfH5NJfQAFW"
      },
      "execution_count": null,
      "outputs": []
    },
    {
      "cell_type": "code",
      "source": [
        "\"\"\"\n",
        "If... Else\n",
        "A tomada de decisão é necessária quando queremos executar um código apenas se uma determinada condição for satisfeita.\n",
        "\n",
        "As instruções if, elif e else são usadas em Python para nos auxiliar na tomada de decisões.\n",
        "A tomada de decisão é um conceito muito importante da programação e representa a capacidade de executarmos determinados comandos apenas se condições especificadas forem satisfeitas.\n",
        "\n",
        "Lembrando que Python é capaz de suportar as condições lógicas tradicionais da matemática:\n",
        "\n",
        "Igualdade: x == y\n",
        "Diferente de: x != y\n",
        "Menor que: x < y\n",
        "Menor que ou igual a: x <= y\n",
        "Maior que: x > y\n",
        "Maior que ou igual a: x >= y\n",
        "Essas condições podem ser usadas de várias maneiras, e são comumente utilizadas em instruções if e loops.\n",
        "\n",
        "A sintaxe para construirmos uma estrutura de tomada de decisão funciona então da seguinte forma:\n",
        "if <expressão>:\n",
        "    <comandos>\n",
        "elif <expressão>:\n",
        "    <comandos>\n",
        "else:\n",
        "    <comandos>\n",
        "\n",
        "Neste exemplo, o programa executa a primeira linha if <expressão>, se a <expressão> for avaliada como True, os <comandos> dentro do bloco if serão executados.\n",
        "\n",
        "Caso a <expressão> da primeira linha if <expressão> seja avaliada como False, nosso programa irá pular para a linha elif <expressão> e irá testar a nova <expressão>:\n",
        "\n",
        "Se ela for avaliada como True os comandos do bloco elif serão executados.\n",
        "Se ela for avaliada como False os comandos do bloco else serão executados.\n",
        "Exemplos\n",
        "Vamos agora construir exemplos práticos para compreender melhor a ideia de tomada de decisão em nossos códigos.\n",
        "\"\"\"\n",
        "num = 5\n",
        "if num > 0:\n",
        "    print(\"O número é positivo\")\n",
        "print(\"Esse valor é sempre impresso, pois está fora do bloco if\")"
      ],
      "metadata": {
        "id": "qdxWMkw4QYRV"
      },
      "execution_count": null,
      "outputs": []
    },
    {
      "cell_type": "code",
      "source": [
        "#Nesse caso podemos perceber que a expressão dentro do bloco if será executa, uma vez que o valor de num é maior que 0, sendo assim, positivo.\n",
        "\n",
        "#Também podemos usar a palavra-chave elif para testarmos outras possibilidades, uma vez que nem sempre a primeira pode ser atendida.\n",
        "\n",
        "x = 12\n",
        "y = 12\n",
        "if x > y:\n",
        "    print(\"x é maior do que y\")\n",
        "elif x == y:\n",
        "    print(\"x e y são iguais\")"
      ],
      "metadata": {
        "id": "NGmIwMUpR-YO"
      },
      "execution_count": null,
      "outputs": []
    },
    {
      "cell_type": "code",
      "source": [
        "#Nesse exemplo a primeira condição não é satisfeita, então pulamos para o elif e fazemos o teste, como os valores de x e y são iguais, temos nossa expressão \"x e y são iguais\" executada.\n",
        "\n",
        "#Além do if e elif, temos o else que preencherá qualquer situação que o if e elif não sejam capazes de executar.\n",
        "\n",
        "a = 100\n",
        "b = 20\n",
        "if b > a:\n",
        "    print(\"b é maior do que a\")\n",
        "elif b == a:\n",
        "    print(\"b e a são iguais\")\n",
        "else:\n",
        "    print(\"a é maior do que b\")"
      ],
      "metadata": {
        "id": "3vYGvRYcSdce"
      },
      "execution_count": null,
      "outputs": []
    },
    {
      "cell_type": "code",
      "source": [
        "#Veja que nesse caso o primeiro if será avaliado como False, pulamos então para o elif que também será avaliado como False, nos deixando apenas com a execução do else.\n",
        "\n",
        "#Lembrando que é possível utilizarmos o else sem o elif.\n",
        "\n",
        "k = 30\n",
        "z = 22\n",
        "if z > k:\n",
        "    print(\"z é maior do que k\")\n",
        "else:\n",
        "    print(\"k é maior do que z\")"
      ],
      "metadata": {
        "id": "0H9595qRSndt"
      },
      "execution_count": null,
      "outputs": []
    },
    {
      "cell_type": "code",
      "source": [
        "#Podemos também encadear multiplos if, elif e else.\n",
        "\n",
        "#Nesse programa vamos pedir para o usuário entrar com um número, avaliaremos se ele é positivo, negativo ou zero e mostraremos ao usuário a mensagem apropriada.\n",
        "\n",
        "num = int(input(\"Digite um número: \"))\n",
        "if num >= 0:\n",
        "    if num == 0:\n",
        "        print(\"Zero\")\n",
        "    else:\n",
        "        print(\"Número positivo\")\n",
        "else:\n",
        "    print(\"Número negativo\")"
      ],
      "metadata": {
        "id": "QO58btmaSxzW"
      },
      "execution_count": null,
      "outputs": []
    },
    {
      "cell_type": "code",
      "source": [
        "#Imagine agora que temos uma string chamada de senha e queremos avaliar se ela foi digitada ou não, podemos neste caso usar a palavra-chave not que indica a negação de uma expressão, alterando assim seu estado. Por exemplo:\n",
        "\n",
        "senha = ''\n",
        "if not senha:\n",
        "    print('Senha inexistente!')\n",
        "else:\n",
        "    print('Senha existe!')\n",
        "# Senha inexistente!\n",
        "\n",
        "#Neste caso específico, o comando print('Senha inexistente!') será executado, uma vez que qualquer string vazia é avaliada como False, e nesse caso, usamos o not para trocar o False para True.\n",
        "\n",
        "#Podemos confirmar essa ideia com o seguinte experimento:\n",
        "\n",
        "print(bool('')) # False\n",
        "print(bool('75966231325')) # True\n"
      ],
      "metadata": {
        "id": "3MjVsIilTVrR"
      },
      "execution_count": null,
      "outputs": []
    },
    {
      "cell_type": "code",
      "source": [
        "#Operadores Lógicos\n",
        "#Anteriormente vimos os operadores lógicos, eles também podem ser utilizados em conjunto com if para construirmos testes mais elaborados.\n",
        "\n",
        "#A palavra-chave and é um operador lógico e é usado para combinar declarações condicionais:\n",
        "\n",
        "n1 = 15\n",
        "n2 = 30\n",
        "n3 = 15\n",
        "if n1 < n2 and n3 == n1:\n",
        "    print(\"Ambas as condições são verdadeiras\")"
      ],
      "metadata": {
        "id": "oRvgqg4wUNiG"
      },
      "execution_count": null,
      "outputs": []
    },
    {
      "cell_type": "code",
      "source": [
        "#Neste exemplo o comando print() será executado, pois ambas as condições se concretizam como True (n1 é menor que n2 e n3 é igual a n1).\n",
        "\n",
        "#A palavra-chave or é um operador lógico e é usada para combinar declarações condicionais:\n",
        "\n",
        "if n1 > n2 or n1 == n3:\n",
        "    print(\"Pelo menos uma condição é verdadeira\")\n",
        "#Neste exemplo o comando print() será executado, mesmo a primeira expressão não sendo avaliada como True, a segunda é avaliada, o que é o suficiente para termos nosso comando print() executado."
      ],
      "metadata": {
        "id": "OUbrcC2kUbkm"
      },
      "execution_count": null,
      "outputs": []
    },
    {
      "cell_type": "code",
      "source": [
        "\"\"\"\n",
        "While Loops\n",
        "O while loop em Python é utilizado para iterar em cima de um bloco de código enquanto determinada Expressão de Teste (condição) for avaliada como True.\n",
        "\n",
        "While é normalmente usado quando não sabemos de ante-mão o número de vezes no qual vamos iterar.\n",
        "\n",
        "Python primeiro verifica a condição:\n",
        "\n",
        "Se for False, o loop será encerrado e o controle será passado para a próxima instrução após o corpo do While Loop.\n",
        "Se a condição for True, o corpo do While Loop será executado e a condição será verificada novamente.\n",
        "Este procedimento continua enquanto a condição for True. Quando a condição se torna False, o loop termina e o controle é passado para a próxima instrução após o loop.\n",
        "while <condição>:\n",
        "    <expressão>\n",
        "    <expressão>\n",
        "    ...\n",
        "    <condição> é avaliado para um booleano\n",
        "Se a <condição> for True, executa-se todas as <expressões> dentro do bloco de código while\n",
        "Checa a <condição> novamente\n",
        "Repete até que a <condição> seja False\n",
        "Vejamos um exemplo prático:\n",
        "\"\"\"\n",
        "i = 1\n",
        "while i < 10:\n",
        "    print(i)\n",
        "    i += 1\n",
        "#Observe que i += 1 é o mesmo que i = i + 1, precisamos dessa expressão, caso contrário teremos um loop infinito.\n",
        "\n",
        "#Também podemos definir o while loop em um único statement, da seguinte forma:\n",
        "count = 0\n",
        "while (count < 5): count += 1; print(\"Hello World\")\n",
        "#A palavra-chave break também pode ser utilizada em conjunto com o while:\n",
        "a = 1\n",
        "while a < 10:\n",
        "    print(a)\n",
        "    if a == 5:\n",
        "        break\n",
        "    a += 1\n",
        "#Neste caso só serão impressos os números de 1 até 5, pois quando a == 5 o loop irá encerrar.\n",
        "\n",
        "#Podemos também usar a palavra-chave continue:\n",
        "x = 0\n",
        "while x < 10:\n",
        "    x += 1\n",
        "    if x == 5:\n",
        "        continue\n",
        "    print(x)\n",
        "#O while loop também pode ser usado para computarmos a Sequência de Fibonacci:\n",
        "#Com ele podemos facilmente definir o algoritmo de Euclides para buscar o máximo divisor comum entre dois números:\n",
        "def gcd(x, y):\n",
        "    while y != 0:\n",
        "        (x, y) = (y, x % y)\n",
        "    return x\n",
        "print(gcd(155,70)) # 5\n",
        "print(gcd(77,33)) # 11\n",
        "print(gcd(400,140)) # 20\n",
        "print(gcd(97,13)) # 1\n",
        "\"\"\"\n",
        "For vs While\n",
        "for\n",
        "Número de iterações é conhecido\n",
        "Pode finalizar antecipadamente através do break\n",
        "Utiliza um contador\n",
        "while\n",
        "Número de iterações ilimitados\n",
        "Pode finalizar antecipadamente através do break\n",
        "Pode utilizar um contador, porém é necessário inicializar ele antes do loop e incrementá-lo dentro do loop\n",
        "Como vimos, while loops não são muito misteriosos, porém a utilidade deles pode ser muito grande em nossos programas!\n",
        "\"\"\"\n"
      ],
      "metadata": {
        "id": "NKOHZP1ueTQY"
      },
      "execution_count": null,
      "outputs": []
    },
    {
      "cell_type": "code",
      "source": [
        "\"\"\"\n",
        "Listas\n",
        "Existem quatro tipos de dados de coleção na linguagem de programação Python, são eles:\n",
        "\n",
        "Listas: Coleção ordenada e mutável. Permite membros duplicados.\n",
        "Tuplas: Coleção ordenada e imutável. Permite membros duplicados.\n",
        "Sets: Coleção não-ordenada e não-indexada. Não permite membros duplicados.\n",
        "Dicionários: Coleção não-ordenada, mutável e indexável. Não permite membros duplicados.\n",
        "Dos dados compostos, usados para agrupar outros valores, o mais versátil é a lista, que pode ser escrita como uma lista de valores separados por vírgula e entre colchetes. As listas podem conter itens de tipos diferentes, mas geralmente os itens possuem o mesmo tipo.\n",
        "Fundamentos Básicos de Listas\n",
        "Para melhor entendermos o conceito de Listas, vamos definir a nossa primeira lista que será chamada de L e irá conter as letras das palavras \"Monty Python\":\n",
        "\"\"\"\n",
        "L = ['M','o','n','t','y',' ','P','y','t','h','o','n']\n",
        "#Veja que podemos imprimir o conteúdo da lista com o comando print():\n",
        "\n",
        "print(L) # ['M', 'o', 'n', 't', 'y', ' ', 'P', 'y', 't', 'h', 'o', 'n']\n",
        "#Com o comando len() podemos verificar o tamanho (número de itens) da lista:\n",
        "\n",
        "len(L) # 12\n",
        "#Podemos acessar apenas determinados itens da lista utilizando o conceito de slicing:\n",
        "\n",
        "print(L[6:10]) # ['P', 'y', 't', 'h']\n",
        "print(L[-12:-7]) # ['M', 'o', 'n', 't', 'y']\n",
        "#Observe esta lista que definimos é uma lista de caracteres, se quisermos uní-los para formar as palavras, podemos usar o método join() da seguinte forma:\n",
        "\n",
        "nome = ''.join(L)\n",
        "print(nome) # Monty Python"
      ],
      "metadata": {
        "colab": {
          "base_uri": "https://localhost:8080/"
        },
        "id": "2lKagE7qjsTG",
        "outputId": "d982d020-c55b-499d-81ea-91cd07bc9730"
      },
      "execution_count": 5,
      "outputs": [
        {
          "output_type": "stream",
          "name": "stdout",
          "text": [
            "['M', 'o', 'n', 't', 'y', ' ', 'P', 'y', 't', 'h', 'o', 'n']\n",
            "['P', 'y', 't', 'h']\n",
            "['M', 'o', 'n', 't', 'y']\n",
            "Monty Python\n"
          ]
        }
      ]
    },
    {
      "cell_type": "code",
      "source": [
        "#Acessando Elementos de uma Lista\n",
        "#Vamos agora definir mais três listas para entendermos melhor como elas funcionam:\n",
        "\n",
        "ciencias = ['física', 'química', 'matemática']\n",
        "numeros = [1, 2, 3, 4, 5, 6, 7, 8, 9, 10]\n",
        "hibrida = [1, 2.3, \"Rafael\"]\n",
        "\"\"\"\n",
        "Semelhantes às strings, as listas também consideram o índice começando por 0, além disso, as listas podem ser manipuladas de várias formas, como concatenadas e sliced.\n",
        "\n",
        "A notação específica para fazer o slicing das listas é:\n",
        "\n",
        "lista[inicio:parada]  item de inicio até o item de parada - 1\n",
        "lista[inicio:] # item de inicio até o fim da lista\n",
        "lista[:parada] # itens do começo da lista até parada - 1\n",
        "lista[:] # cópia da lista inteira\n",
        "Existe também um valor de passo, que determina o número de passos para acessar os itens:\n",
        "lista[inicio:parada:passo] # item de inicio até o item de parada - 1 em um determinado número de passos\n",
        "A outra característica é que o início ou a parada podem ser um número negativo, o que significa que conta a partir do final da lista em vez do início. Para compreender este conceito melhor, vamos acessar os elementos de nossas listas de diversas maneiras.\n",
        "\n",
        "Imprimindo do elemento de índice 0 até o elemento de índice 1:\n",
        "\"\"\"\n",
        "print(ciencias[0:2]) # ['física', 'química']\n",
        "#Imprimindo apenas o elemento de índice 2:\n",
        "\n",
        "print(numeros[2]) # 3\n",
        "#Imprimindo o último elemento da lista:\n",
        "\n",
        "print(hibrida[-1]) # Rafael\n",
        "#Imprimindo a lista inteira:\n",
        "\n",
        "print(ciencias[:]) # ['física', 'química', 'matemática']\n",
        "#Imprimindo até o elemento de índice 5:\n",
        "\n",
        "print(numeros[:6]) # [1, 2, 3, 4, 5, 6]\n",
        "#Imprimindo do elemento de índice 2 adiante:\n",
        "\n",
        "print(numeros[2:]) # [3, 4, 5, 6, 7, 8, 9, 10]\n",
        "#Podemos imprimir apenas os números ímpares da lista ao definirmos um valor de passo igual a 2, por exemplo:\n",
        "\n",
        "print(numeros[0:10:2]) # [1, 3, 5, 7, 9]\n",
        "#A função slice() nos permite atingir a mesma funcionalidade que esta notação, vejamos alguns exemplos:\n",
        "\n",
        "ciencias[slice(0,2)] # ['física', 'química']\n",
        "numeros[slice(0,10,2)] # [1, 3, 5, 7, 9]"
      ],
      "metadata": {
        "colab": {
          "base_uri": "https://localhost:8080/"
        },
        "id": "9BfPkl_wkz--",
        "outputId": "0ae79324-b2ac-4568-b8d5-f3f74bacf5df"
      },
      "execution_count": 2,
      "outputs": [
        {
          "output_type": "stream",
          "name": "stdout",
          "text": [
            "['física', 'química']\n",
            "3\n",
            "Rafael\n",
            "['física', 'química', 'matemática']\n",
            "[1, 2, 3, 4, 5, 6]\n",
            "[3, 4, 5, 6, 7, 8, 9, 10]\n",
            "[1, 3, 5, 7, 9]\n"
          ]
        },
        {
          "output_type": "execute_result",
          "data": {
            "text/plain": [
              "[1, 3, 5, 7, 9]"
            ]
          },
          "metadata": {},
          "execution_count": 2
        }
      ]
    },
    {
      "cell_type": "code",
      "source": [
        "\"\"\"\n",
        "Alterando Elementos de uma Lista\n",
        "A lista é um tipo de dados mutável. Assim que uma lista for criada:\n",
        "\n",
        "Elementos podem ser modificados\n",
        "Valores individuais podem ser substituídos\n",
        "A ordem dos elementos pode ser alterada\n",
        "Para compreendermos melhor as mutações de listas, vamos executar alterações em nossas listas.\n",
        "\n",
        "Iniciaremos alterando o primeiro elemento da lista ciencias:\n",
        "\"\"\"\n",
        "ciencias[0] = \"computação\"\n",
        "print(ciencias[0]) # computação\n",
        "#Vamos agora incrementar mais ciências a nossa lista ciencias:\n",
        "\n",
        "ciencias += ['astronomia','biologia']\n",
        "print(ciencias) # ['computação', 'química', 'matemática', 'astronomia', 'biologia']\n",
        "#Acessando Itens de uma Lista\n",
        "#Uma outra maneira de acessarmos os itens de uma lista é usando um for loop:\n",
        "\n",
        "for n in numeros: # Percorre cada elemento de numeros\n",
        "   print(n) # Imprime os elementos"
      ],
      "metadata": {
        "id": "pv-MLEplucag"
      },
      "execution_count": null,
      "outputs": []
    },
    {
      "cell_type": "code",
      "source": [
        "from bs4 import BeautifulSoup\n",
        "import requests\n",
        "import json\n",
        "\n",
        "url = \"https://brasilapi.com.br/api/cep/v1/{12570-318}\"\n",
        "\n",
        "page = requests.get(url)\n",
        "dict = page .text\n",
        "soup = BeautifulSoup(page.text,'html')\n",
        "#soup = BautifulSoup()\n",
        "print(dict)"
      ],
      "metadata": {
        "colab": {
          "base_uri": "https://localhost:8080/"
        },
        "id": "7JH3wupNweVA",
        "outputId": "304fbe34-e935-46e6-c2e5-5605470e7927"
      },
      "execution_count": 8,
      "outputs": [
        {
          "output_type": "stream",
          "name": "stdout",
          "text": [
            "{\"cep\":\"12570318\",\"state\":\"SP\",\"city\":\"Aparecida\",\"neighborhood\":\"Santa Luzia\",\"street\":\"Rua Antonio Bittencourt da Costa\",\"service\":\"correios-alt\"}\n"
          ]
        }
      ]
    }
  ]
}